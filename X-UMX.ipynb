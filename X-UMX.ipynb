{
  "cells": [
    {
      "cell_type": "markdown",
      "metadata": {},
      "source": [
        "# Code/Environment Preparation\n",
        "\n",
        "Let's start by installing nnabla and other required packages first. If you're running on Colab, make sure that your Runtime setting is set as GPU. If not, that can be set up from the top menu (Runtime → change runtime type). Then click Connect on the top right-hand side of the screen before you start."
      ]
    },
    {
      "cell_type": "code",
      "metadata": {},
      "source": [
        "!pip install musdb norbert pydub nnabla-ext-cuda100"
      ],
      "execution_count": null,
      "outputs": []
    },
    {
      "cell_type": "markdown",
      "metadata": {},
      "source": [
        "\n",
        "Next, clone the code from sony/ai-research-code repository, and then download the [pre-trained weights](https://nnabla.org/pretrained-models/ai-research-code/x-umx/x-umx.h5) to test on music fles(only wav format) and to run evaluation on MUSDB18 dataset."
      ]
    },
    {
      "cell_type": "code",
      "metadata": {},
      "source": [
        "!git clone https://github.com/sony/ai-research-code.git\n",
        "%cd ai-research-code/x-umx\n",
        "!mkdir models\n",
        "!wget -P models https://nnabla.org/pretrained-models/ai-research-code/x-umx/x-umx.h5"
      ],
      "execution_count": null,
      "outputs": []
    },
    {
      "cell_type": "markdown",
      "metadata": {},
      "source": [
        "# Testing\n",
        "\n",
        "If you do not have sample music files, such files can be downloaded from [this link](https://www.ee.columbia.edu/~dpwe/sounds/music/). Please note that because memory requirement is high, we suggest users to either try with music smaller than 15 seconds or set --chunk-dur with values appropriate for each computer. It is used to break audio into smaller chunks, separate sources and stitch them back together. If your inference fails, kindly reduce chunk duration and try again."
      ]
    },
    {
      "cell_type": "code",
      "metadata": {},
      "source": [
        "#To upload music files from local machine\n",
        "\n",
        "from google.colab import files\n",
        "uploaded_file = files.upload()\n",
        "filename = list(uploaded_file.keys())[0]"
      ],
      "execution_count": null,
      "outputs": []
    },
    {
      "cell_type": "code",
      "metadata": {},
      "source": [
        "!python test.py  --inputs  $filename --outdir ./results/"
      ],
      "execution_count": null,
      "outputs": []
    },
    {
      "cell_type": "markdown",
      "metadata": {},
      "source": [
        "# Listen To Audio Seperated Files"
      ]
    },
    {
      "cell_type": "code",
      "metadata": {
      "cellView": "form"
      },
      "source": [
        "#@title Choose a separate track\n",
        "\n",
        "track = 'vocals' #@param [\"bass\", \"drums\", \"vocals\", \"other\"]\n",
        "import IPython.display as ipd\n",
        "ipd.Audio(f'results/{track}.wav')"
      ],
      "execution_count": null,
      "outputs": []
    }
  ],
 "metadata": {
  "kernelspec": {
   "display_name": "Python 3",
   "language": "python",
   "name": "python3"
  },
  "accelerator": "GPU",
  "language_info": {
   "codemirror_mode": {
    "name": "ipython",
    "version": 3
   },
   "file_extension": ".py",
   "mimetype": "text/x-python",
   "name": "python",
   "nbconvert_exporter": "python",
   "pygments_lexer": "ipython3",
   "version": "3.6.12"
  }
 },
 "nbformat": 4,
 "nbformat_minor": 2
}
